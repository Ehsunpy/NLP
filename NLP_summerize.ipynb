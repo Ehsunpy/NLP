{
  "nbformat": 4,
  "nbformat_minor": 0,
  "metadata": {
    "colab": {
      "provenance": []
    },
    "kernelspec": {
      "name": "python3",
      "display_name": "Python 3"
    },
    "language_info": {
      "name": "python"
    }
  },
  "cells": [
    {
      "cell_type": "markdown",
      "source": [],
      "metadata": {
        "id": "BDjok7onSWnx"
      }
    },
    {
      "cell_type": "code",
      "source": [
        "pip install nltk"
      ],
      "metadata": {
        "colab": {
          "base_uri": "https://localhost:8080/"
        },
        "id": "m4KGgF0IZljq",
        "outputId": "81969f49-b815-4eb2-f588-a53d899892c1"
      },
      "execution_count": 51,
      "outputs": [
        {
          "output_type": "stream",
          "name": "stdout",
          "text": [
            "Requirement already satisfied: nltk in /usr/local/lib/python3.10/dist-packages (3.9.1)\n",
            "Requirement already satisfied: click in /usr/local/lib/python3.10/dist-packages (from nltk) (8.1.7)\n",
            "Requirement already satisfied: joblib in /usr/local/lib/python3.10/dist-packages (from nltk) (1.4.2)\n",
            "Requirement already satisfied: regex>=2021.8.3 in /usr/local/lib/python3.10/dist-packages (from nltk) (2024.9.11)\n",
            "Requirement already satisfied: tqdm in /usr/local/lib/python3.10/dist-packages (from nltk) (4.66.6)\n"
          ]
        }
      ]
    },
    {
      "cell_type": "code",
      "source": [
        "import re\n",
        "import nltk\n",
        "import string"
      ],
      "metadata": {
        "id": "zJsbFhzOR-ks"
      },
      "execution_count": 52,
      "outputs": []
    },
    {
      "cell_type": "code",
      "execution_count": 60,
      "metadata": {
        "id": "Cj4H1wNpQqgs"
      },
      "outputs": [],
      "source": [
        "text = \"\"\"Doroud in the east of Lorestan province is located on the hillside of the Zagros Mountain in Silakhor plain and the vicinity of Oshtorankuh at the height of 1400 meters above the sea level. The climate of this city is mountainous moderate.\n",
        "\n",
        "Doroud consists of 2 districts named ” Silakhour”, ”Markazi”, two cities as “Doroud”, ”Chalancholan“ and 5 rural districts. The historical background of Doroud is not too much and it is best known as the natural capital of Iran due to having abundant natural attractions, for example: the most beautiful freshwater lake of Iran, the most beautiful waterfalls of Iran, Oshorankuh mountains range known as Iran’s Alp, jungle, rivers, springs, springhead, cave, valley and wildlife. Doroud is known as the Lorestan industrial region based on placing in the main road of Khorram Abad-Isfahan and Tehran - Khoramshahr railway, embracing numerous factories such as Farsit and cement, many stone mines and stone cutting factories, military industry, related industries, urban services and agriculture.\n",
        "\n",
        "This city is divided to Bakhtiari and Lorestani tribes and its residents speak in Luri language. The common dialects of this city include Luri-e- Silakhori and Luri-e Bakhtiari.\n",
        "\n",
        "\"\"\""
      ]
    },
    {
      "cell_type": "code",
      "source": [
        "text"
      ],
      "metadata": {
        "colab": {
          "base_uri": "https://localhost:8080/",
          "height": 192
        },
        "id": "nBZ0sQUKSh_i",
        "outputId": "a1fa0282-2b8e-465e-829d-654c54d1ac15"
      },
      "execution_count": 61,
      "outputs": [
        {
          "output_type": "execute_result",
          "data": {
            "text/plain": [
              "'Doroud in the east of Lorestan province is located on the hillside of the Zagros Mountain in Silakhor plain and the vicinity of Oshtorankuh at the height of 1400 meters above the sea level. The climate of this city is mountainous moderate.\\n\\nDoroud consists of 2 districts named ” Silakhour”, ”Markazi”, two cities as “Doroud”, ”Chalancholan“ and 5 rural districts. The historical background of Doroud is not too much and it is best known as the natural capital of Iran due to having abundant natural attractions, for example: the most beautiful freshwater lake of Iran, the most beautiful waterfalls of Iran, Oshorankuh mountains range known as Iran’s Alp, jungle, rivers, springs, springhead, cave, valley and wildlife. Doroud is known as the Lorestan industrial region based on placing in the main road of Khorram Abad-Isfahan and Tehran - Khoramshahr railway, embracing numerous factories such as Farsit and cement, many stone mines and stone cutting factories, military industry, related industries, urban services and agriculture.\\n\\nThis city is divided to Bakhtiari and Lorestani tribes and its residents speak in Luri language. The common dialects of this city include Luri-e- Silakhori and Luri-e Bakhtiari.\\n\\n'"
            ],
            "application/vnd.google.colaboratory.intrinsic+json": {
              "type": "string"
            }
          },
          "metadata": {},
          "execution_count": 61
        }
      ]
    },
    {
      "cell_type": "code",
      "source": [
        "text = re.sub(r'\\s+', ' ',text)"
      ],
      "metadata": {
        "id": "TcMCbQAeSi8s"
      },
      "execution_count": 62,
      "outputs": []
    },
    {
      "cell_type": "code",
      "source": [
        "text"
      ],
      "metadata": {
        "colab": {
          "base_uri": "https://localhost:8080/",
          "height": 192
        },
        "id": "PGL48mLlSx7t",
        "outputId": "5ac5bfa4-8e69-405e-c10d-28648ba7952b"
      },
      "execution_count": 63,
      "outputs": [
        {
          "output_type": "execute_result",
          "data": {
            "text/plain": [
              "'Doroud in the east of Lorestan province is located on the hillside of the Zagros Mountain in Silakhor plain and the vicinity of Oshtorankuh at the height of 1400 meters above the sea level. The climate of this city is mountainous moderate. Doroud consists of 2 districts named ” Silakhour”, ”Markazi”, two cities as “Doroud”, ”Chalancholan“ and 5 rural districts. The historical background of Doroud is not too much and it is best known as the natural capital of Iran due to having abundant natural attractions, for example: the most beautiful freshwater lake of Iran, the most beautiful waterfalls of Iran, Oshorankuh mountains range known as Iran’s Alp, jungle, rivers, springs, springhead, cave, valley and wildlife. Doroud is known as the Lorestan industrial region based on placing in the main road of Khorram Abad-Isfahan and Tehran - Khoramshahr railway, embracing numerous factories such as Farsit and cement, many stone mines and stone cutting factories, military industry, related industries, urban services and agriculture. This city is divided to Bakhtiari and Lorestani tribes and its residents speak in Luri language. The common dialects of this city include Luri-e- Silakhori and Luri-e Bakhtiari. '"
            ],
            "application/vnd.google.colaboratory.intrinsic+json": {
              "type": "string"
            }
          },
          "metadata": {},
          "execution_count": 63
        }
      ]
    },
    {
      "cell_type": "code",
      "source": [
        "nltk.download('punk')"
      ],
      "metadata": {
        "colab": {
          "base_uri": "https://localhost:8080/"
        },
        "id": "4cxqAKytSzec",
        "outputId": "8f43bedc-d94a-4f7c-83ce-63a347efc517"
      },
      "execution_count": 64,
      "outputs": [
        {
          "output_type": "stream",
          "name": "stderr",
          "text": [
            "[nltk_data] Error loading punk: Package 'punk' not found in index\n"
          ]
        },
        {
          "output_type": "execute_result",
          "data": {
            "text/plain": [
              "False"
            ]
          },
          "metadata": {},
          "execution_count": 64
        }
      ]
    },
    {
      "cell_type": "code",
      "source": [
        "nltk.download('punkt_tab')\n",
        "nltk.download('punkt')\n",
        "nltk.download('stopwords')"
      ],
      "metadata": {
        "colab": {
          "base_uri": "https://localhost:8080/"
        },
        "id": "vmzZLD_rS5by",
        "outputId": "13152669-543d-45c8-8207-f1f7e8d0b001"
      },
      "execution_count": 65,
      "outputs": [
        {
          "output_type": "stream",
          "name": "stderr",
          "text": [
            "[nltk_data] Downloading package punkt_tab to /root/nltk_data...\n",
            "[nltk_data]   Package punkt_tab is already up-to-date!\n",
            "[nltk_data] Downloading package punkt to /root/nltk_data...\n",
            "[nltk_data]   Package punkt is already up-to-date!\n",
            "[nltk_data] Downloading package stopwords to /root/nltk_data...\n",
            "[nltk_data]   Package stopwords is already up-to-date!\n"
          ]
        },
        {
          "output_type": "execute_result",
          "data": {
            "text/plain": [
              "True"
            ]
          },
          "metadata": {},
          "execution_count": 65
        }
      ]
    },
    {
      "cell_type": "markdown",
      "source": [],
      "metadata": {
        "id": "K03vymB8YN_t"
      }
    },
    {
      "cell_type": "code",
      "source": [
        "from nltk.corpus import stopwords\n",
        "\n",
        "stopword = nltk.corpus.stopwords.words('english')\n"
      ],
      "metadata": {
        "id": "GQyqIic5TE6k"
      },
      "execution_count": 69,
      "outputs": []
    },
    {
      "cell_type": "code",
      "source": [
        "string.punctuation"
      ],
      "metadata": {
        "colab": {
          "base_uri": "https://localhost:8080/",
          "height": 36
        },
        "id": "d1dAWAxATNJx",
        "outputId": "be8326a2-79da-444b-a513-5cc26c5c9127"
      },
      "execution_count": 70,
      "outputs": [
        {
          "output_type": "execute_result",
          "data": {
            "text/plain": [
              "'!\"#$%&\\'()*+,-./:;<=>?@[\\\\]^_`{|}~'"
            ],
            "application/vnd.google.colaboratory.intrinsic+json": {
              "type": "string"
            }
          },
          "metadata": {},
          "execution_count": 70
        }
      ]
    },
    {
      "cell_type": "code",
      "source": [
        "def process_text(text):\n",
        "  tokenize = []\n",
        "  text = text.lower()\n",
        "  for word in nltk.word_tokenize(text):\n",
        "    if word not in stopword and word not in string.punctuation:\n",
        "      tokenize.append(word)\n",
        "  return tokenize\n"
      ],
      "metadata": {
        "id": "KsijicmPTQwZ"
      },
      "execution_count": 71,
      "outputs": []
    },
    {
      "cell_type": "code",
      "source": [
        "process_text = process_text(text)"
      ],
      "metadata": {
        "id": "SXaG4HL1Tzqt"
      },
      "execution_count": 72,
      "outputs": []
    },
    {
      "cell_type": "code",
      "source": [
        "unlisted_text = ' '.join(element for element in process_text)"
      ],
      "metadata": {
        "id": "8fHFISrbT2fP"
      },
      "execution_count": 73,
      "outputs": []
    },
    {
      "cell_type": "code",
      "source": [
        "unlisted_text"
      ],
      "metadata": {
        "colab": {
          "base_uri": "https://localhost:8080/",
          "height": 174
        },
        "id": "uoeTZZuKUbQE",
        "outputId": "b3ab8783-57ef-4ee3-daa1-61b4d655339a"
      },
      "execution_count": 74,
      "outputs": [
        {
          "output_type": "execute_result",
          "data": {
            "text/plain": [
              "'doroud east lorestan province located hillside zagros mountain silakhor plain vicinity oshtorankuh height 1400 meters sea level climate city mountainous moderate doroud consists 2 districts named ” silakhour ” ” markazi ” two cities “ doroud ” ” chalancholan “ 5 rural districts historical background doroud much best known natural capital iran due abundant natural attractions example beautiful freshwater lake iran beautiful waterfalls iran oshorankuh mountains range known iran ’ alp jungle rivers springs springhead cave valley wildlife doroud known lorestan industrial region based placing main road khorram abad-isfahan tehran khoramshahr railway embracing numerous factories farsit cement many stone mines stone cutting factories military industry related industries urban services agriculture city divided bakhtiari lorestani tribes residents speak luri language common dialects city include luri-e- silakhori luri-e bakhtiari'"
            ],
            "application/vnd.google.colaboratory.intrinsic+json": {
              "type": "string"
            }
          },
          "metadata": {},
          "execution_count": 74
        }
      ]
    },
    {
      "cell_type": "code",
      "source": [
        "word_freq = nltk.FreqDist(nltk.word_tokenize(unlisted_text))\n",
        "word_freq"
      ],
      "metadata": {
        "colab": {
          "base_uri": "https://localhost:8080/"
        },
        "id": "zPCGQGGKUcuo",
        "outputId": "682d67fc-091e-42c7-a43f-378313b52f71"
      },
      "execution_count": 75,
      "outputs": [
        {
          "output_type": "execute_result",
          "data": {
            "text/plain": [
              "FreqDist({'”': 6, 'doroud': 5, 'iran': 4, 'city': 3, 'known': 3, 'lorestan': 2, 'districts': 2, '“': 2, 'natural': 2, 'beautiful': 2, ...})"
            ]
          },
          "metadata": {},
          "execution_count": 75
        }
      ]
    },
    {
      "cell_type": "code",
      "source": [
        "word_freq.keys()"
      ],
      "metadata": {
        "colab": {
          "base_uri": "https://localhost:8080/"
        },
        "id": "iaDq26e0UkSC",
        "outputId": "02c01833-7896-4b90-ca2e-98ef3a31a045"
      },
      "execution_count": 76,
      "outputs": [
        {
          "output_type": "execute_result",
          "data": {
            "text/plain": [
              "dict_keys(['doroud', 'east', 'lorestan', 'province', 'located', 'hillside', 'zagros', 'mountain', 'silakhor', 'plain', 'vicinity', 'oshtorankuh', 'height', '1400', 'meters', 'sea', 'level', 'climate', 'city', 'mountainous', 'moderate', 'consists', '2', 'districts', 'named', '”', 'silakhour', 'markazi', 'two', 'cities', '“', 'chalancholan', '5', 'rural', 'historical', 'background', 'much', 'best', 'known', 'natural', 'capital', 'iran', 'due', 'abundant', 'attractions', 'example', 'beautiful', 'freshwater', 'lake', 'waterfalls', 'oshorankuh', 'mountains', 'range', '’', 'alp', 'jungle', 'rivers', 'springs', 'springhead', 'cave', 'valley', 'wildlife', 'industrial', 'region', 'based', 'placing', 'main', 'road', 'khorram', 'abad-isfahan', 'tehran', 'khoramshahr', 'railway', 'embracing', 'numerous', 'factories', 'farsit', 'cement', 'many', 'stone', 'mines', 'cutting', 'military', 'industry', 'related', 'industries', 'urban', 'services', 'agriculture', 'divided', 'bakhtiari', 'lorestani', 'tribes', 'residents', 'speak', 'luri', 'language', 'common', 'dialects', 'include', 'luri-e-', 'silakhori', 'luri-e'])"
            ]
          },
          "metadata": {},
          "execution_count": 76
        }
      ]
    },
    {
      "cell_type": "code",
      "source": [
        "len(word_freq.keys())"
      ],
      "metadata": {
        "colab": {
          "base_uri": "https://localhost:8080/"
        },
        "id": "yJDYQOPdVgEv",
        "outputId": "ae1aeea1-9088-4931-8a3f-28dd4bb7a8f7"
      },
      "execution_count": 77,
      "outputs": [
        {
          "output_type": "execute_result",
          "data": {
            "text/plain": [
              "103"
            ]
          },
          "metadata": {},
          "execution_count": 77
        }
      ]
    },
    {
      "cell_type": "code",
      "source": [
        "highest_value = max(word_freq.values())\n",
        "highest_value"
      ],
      "metadata": {
        "colab": {
          "base_uri": "https://localhost:8080/"
        },
        "id": "eSHGADgPVpPS",
        "outputId": "854ece22-8965-4a9a-ec5c-5b5cf39943de"
      },
      "execution_count": 78,
      "outputs": [
        {
          "output_type": "execute_result",
          "data": {
            "text/plain": [
              "6"
            ]
          },
          "metadata": {},
          "execution_count": 78
        }
      ]
    },
    {
      "cell_type": "code",
      "source": [],
      "metadata": {
        "id": "yhiimF89WEzr"
      },
      "execution_count": 78,
      "outputs": []
    },
    {
      "cell_type": "code",
      "source": [
        "for word in word_freq.keys():\n",
        "  word_freq[word] = (word_freq[word]/highest_value)\n",
        "word_freq"
      ],
      "metadata": {
        "colab": {
          "base_uri": "https://localhost:8080/"
        },
        "id": "j4r4mYuVV7st",
        "outputId": "3bb767c2-37d8-40de-f5fc-73a9d34b833a"
      },
      "execution_count": 79,
      "outputs": [
        {
          "output_type": "execute_result",
          "data": {
            "text/plain": [
              "FreqDist({'”': 1.0, 'doroud': 0.8333333333333334, 'iran': 0.6666666666666666, 'city': 0.5, 'known': 0.5, 'lorestan': 0.3333333333333333, 'districts': 0.3333333333333333, '“': 0.3333333333333333, 'natural': 0.3333333333333333, 'beautiful': 0.3333333333333333, ...})"
            ]
          },
          "metadata": {},
          "execution_count": 79
        }
      ]
    },
    {
      "cell_type": "code",
      "source": [
        "text = nltk.sent_tokenize(text)\n",
        "text"
      ],
      "metadata": {
        "colab": {
          "base_uri": "https://localhost:8080/"
        },
        "id": "i0y58PO5WMli",
        "outputId": "f0ecca0c-169c-4651-d3ca-34f657971137"
      },
      "execution_count": 80,
      "outputs": [
        {
          "output_type": "execute_result",
          "data": {
            "text/plain": [
              "['Doroud in the east of Lorestan province is located on the hillside of the Zagros Mountain in Silakhor plain and the vicinity of Oshtorankuh at the height of 1400 meters above the sea level.',\n",
              " 'The climate of this city is mountainous moderate.',\n",
              " 'Doroud consists of 2 districts named ” Silakhour”, ”Markazi”, two cities as “Doroud”, ”Chalancholan“ and 5 rural districts.',\n",
              " 'The historical background of Doroud is not too much and it is best known as the natural capital of Iran due to having abundant natural attractions, for example: the most beautiful freshwater lake of Iran, the most beautiful waterfalls of Iran, Oshorankuh mountains range known as Iran’s Alp, jungle, rivers, springs, springhead, cave, valley and wildlife.',\n",
              " 'Doroud is known as the Lorestan industrial region based on placing in the main road of Khorram Abad-Isfahan and Tehran - Khoramshahr railway, embracing numerous factories such as Farsit and cement, many stone mines and stone cutting factories, military industry, related industries, urban services and agriculture.',\n",
              " 'This city is divided to Bakhtiari and Lorestani tribes and its residents speak in Luri language.',\n",
              " 'The common dialects of this city include Luri-e- Silakhori and Luri-e Bakhtiari.']"
            ]
          },
          "metadata": {},
          "execution_count": 80
        }
      ]
    },
    {
      "cell_type": "code",
      "source": [
        "len(text)"
      ],
      "metadata": {
        "colab": {
          "base_uri": "https://localhost:8080/"
        },
        "id": "uvXglZQZWtdu",
        "outputId": "5e15b8a6-0113-448a-8f18-68771164b0ae"
      },
      "execution_count": 81,
      "outputs": [
        {
          "output_type": "execute_result",
          "data": {
            "text/plain": [
              "7"
            ]
          },
          "metadata": {},
          "execution_count": 81
        }
      ]
    },
    {
      "cell_type": "code",
      "source": [
        "score_sentences = {}\n",
        "for sent in text:\n",
        "  for word in nltk.word_tokenize(sent.lower()):\n",
        "    if word in word_freq.keys():\n",
        "      if sent not in score_sentences.keys():\n",
        "        score_sentences[sent] = word_freq[word]\n",
        "      else:\n",
        "        score_sentences[sent] += word_freq[word]\n",
        "score_sentences"
      ],
      "metadata": {
        "colab": {
          "base_uri": "https://localhost:8080/"
        },
        "id": "a_idx-t1Wuok",
        "outputId": "b1b09539-6b75-476f-d6a9-96bc79a1f5aa"
      },
      "execution_count": 82,
      "outputs": [
        {
          "output_type": "execute_result",
          "data": {
            "text/plain": [
              "{'Doroud in the east of Lorestan province is located on the hillside of the Zagros Mountain in Silakhor plain and the vicinity of Oshtorankuh at the height of 1400 meters above the sea level.': 3.666666666666665,\n",
              " 'The climate of this city is mountainous moderate.': 0.9999999999999999,\n",
              " 'Doroud consists of 2 districts named ” Silakhour”, ”Markazi”, two cities as “Doroud”, ”Chalancholan“ and 5 rural districts.': 10.666666666666666,\n",
              " 'The historical background of Doroud is not too much and it is best known as the natural capital of Iran due to having abundant natural attractions, for example: the most beautiful freshwater lake of Iran, the most beautiful waterfalls of Iran, Oshorankuh mountains range known as Iran’s Alp, jungle, rivers, springs, springhead, cave, valley and wildlife.': 9.833333333333329,\n",
              " 'Doroud is known as the Lorestan industrial region based on placing in the main road of Khorram Abad-Isfahan and Tehran - Khoramshahr railway, embracing numerous factories such as Farsit and cement, many stone mines and stone cutting factories, military industry, related industries, urban services and agriculture.': 7.166666666666668,\n",
              " 'This city is divided to Bakhtiari and Lorestani tribes and its residents speak in Luri language.': 2.0000000000000004,\n",
              " 'The common dialects of this city include Luri-e- Silakhori and Luri-e Bakhtiari.': 1.8333333333333333}"
            ]
          },
          "metadata": {},
          "execution_count": 82
        }
      ]
    },
    {
      "cell_type": "code",
      "source": [
        "import heapq\n",
        "best_sentences = heapq.nlargest(5, score_sentences, key=score_sentences.get)\n",
        "best_sentences"
      ],
      "metadata": {
        "colab": {
          "base_uri": "https://localhost:8080/"
        },
        "id": "j1oPLLixXDaI",
        "outputId": "df32fd44-dd15-42b3-bfff-eb408fb3b9c8"
      },
      "execution_count": 83,
      "outputs": [
        {
          "output_type": "execute_result",
          "data": {
            "text/plain": [
              "['Doroud consists of 2 districts named ” Silakhour”, ”Markazi”, two cities as “Doroud”, ”Chalancholan“ and 5 rural districts.',\n",
              " 'The historical background of Doroud is not too much and it is best known as the natural capital of Iran due to having abundant natural attractions, for example: the most beautiful freshwater lake of Iran, the most beautiful waterfalls of Iran, Oshorankuh mountains range known as Iran’s Alp, jungle, rivers, springs, springhead, cave, valley and wildlife.',\n",
              " 'Doroud is known as the Lorestan industrial region based on placing in the main road of Khorram Abad-Isfahan and Tehran - Khoramshahr railway, embracing numerous factories such as Farsit and cement, many stone mines and stone cutting factories, military industry, related industries, urban services and agriculture.',\n",
              " 'Doroud in the east of Lorestan province is located on the hillside of the Zagros Mountain in Silakhor plain and the vicinity of Oshtorankuh at the height of 1400 meters above the sea level.',\n",
              " 'This city is divided to Bakhtiari and Lorestani tribes and its residents speak in Luri language.']"
            ]
          },
          "metadata": {},
          "execution_count": 83
        }
      ]
    },
    {
      "cell_type": "code",
      "source": [],
      "metadata": {
        "id": "hDlQKWOWdZAk"
      },
      "execution_count": 83,
      "outputs": []
    },
    {
      "cell_type": "code",
      "source": [
        "sumery = ' '.join(element for element in best_sentences)"
      ],
      "metadata": {
        "id": "_xSqz83UXucu"
      },
      "execution_count": 84,
      "outputs": []
    },
    {
      "cell_type": "code",
      "source": [
        "sumery"
      ],
      "metadata": {
        "colab": {
          "base_uri": "https://localhost:8080/",
          "height": 192
        },
        "id": "DkiAVyqTXzkd",
        "outputId": "4b20ac48-4e5d-46c7-e127-32c0e0a16dd1"
      },
      "execution_count": 85,
      "outputs": [
        {
          "output_type": "execute_result",
          "data": {
            "text/plain": [
              "'Doroud consists of 2 districts named ” Silakhour”, ”Markazi”, two cities as “Doroud”, ”Chalancholan“ and 5 rural districts. The historical background of Doroud is not too much and it is best known as the natural capital of Iran due to having abundant natural attractions, for example: the most beautiful freshwater lake of Iran, the most beautiful waterfalls of Iran, Oshorankuh mountains range known as Iran’s Alp, jungle, rivers, springs, springhead, cave, valley and wildlife. Doroud is known as the Lorestan industrial region based on placing in the main road of Khorram Abad-Isfahan and Tehran - Khoramshahr railway, embracing numerous factories such as Farsit and cement, many stone mines and stone cutting factories, military industry, related industries, urban services and agriculture. Doroud in the east of Lorestan province is located on the hillside of the Zagros Mountain in Silakhor plain and the vicinity of Oshtorankuh at the height of 1400 meters above the sea level. This city is divided to Bakhtiari and Lorestani tribes and its residents speak in Luri language.'"
            ],
            "application/vnd.google.colaboratory.intrinsic+json": {
              "type": "string"
            }
          },
          "metadata": {},
          "execution_count": 85
        }
      ]
    },
    {
      "cell_type": "code",
      "source": [],
      "metadata": {
        "id": "gXtEXWTqX58k"
      },
      "execution_count": null,
      "outputs": []
    }
  ]
}